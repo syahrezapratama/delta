{
 "cells": [
  {
   "cell_type": "markdown",
   "id": "1d43292f",
   "metadata": {},
   "source": [
    "[![Open In Colab](https://colab.research.google.com/assets/colab-badge.svg)](https://colab.research.google.com/github/Humboldt-WI/delta/blob/master/tutorial_notebooks/Tut9_Transformer_Sentiment_Analysis_Student.ipynb)"
   ]
  },
  {
   "cell_type": "markdown",
   "id": "2411c520",
   "metadata": {},
   "source": [
    "# Tutorial 9: Sentiment Analysis with Transformers"
   ]
  },
  {
   "cell_type": "code",
   "execution_count": 1,
   "id": "c2471cc0",
   "metadata": {},
   "outputs": [],
   "source": [
    "# Import standard libraries\n",
    "import pandas as pd\n",
    "import numpy as np\n",
    "import matplotlib.pyplot as plt"
   ]
  },
  {
   "cell_type": "code",
   "execution_count": 2,
   "id": "b980257f",
   "metadata": {},
   "outputs": [],
   "source": [
    "# Create a global variable to idicate whether the notebook is run in Colab\n",
    "import sys\n",
    "IN_COLAB = 'google.colab' in sys.modules\n",
    "\n",
    "# Configure variables pointing to directories and stored files \n",
    "if IN_COLAB:\n",
    "    # Mount Google-Drive\n",
    "    from google.colab import drive\n",
    "    drive.mount('/content/drive')\n",
    "    DATA_DIR = '/content/drive/My Drive/ProDok/'  # adjust to Google drive folder with the data if applicable\n",
    "else:\n",
    "    DATA_DIR = './' # adjust to the directory where data is stored on your machine (if running the notebook locally)\n",
    "\n",
    "sys.path.append(DATA_DIR)\n",
    "\n",
    "CLEAN_REVIEW = DATA_DIR + 'imdb_clean_full_v2.pkl'   # List with tokenized reviews after standard NLP preparation"
   ]
  },
  {
   "cell_type": "code",
   "execution_count": 3,
   "id": "642713b8",
   "metadata": {},
   "outputs": [],
   "source": [
    "with open(CLEAN_REVIEW,'rb') as path_name:\n",
    "    df = pd.read_pickle(path_name)"
   ]
  },
  {
   "cell_type": "code",
   "execution_count": 4,
   "id": "fd3246b3",
   "metadata": {},
   "outputs": [],
   "source": [
    "# Draw the same random sample of n reviews to increase the speed of the following steps and ensure comparability\n",
    "n = 5000\n",
    "np.random.seed(111)\n",
    "ix = np.random.randint(0, high=df.shape[0]-1, size=n)\n",
    "df = df.loc[ix, :]\n",
    "df.reset_index(drop=True, inplace=True)"
   ]
  },
  {
   "cell_type": "code",
   "execution_count": 5,
   "id": "fb632b20",
   "metadata": {},
   "outputs": [
    {
     "data": {
      "application/vnd.microsoft.datawrangler.viewer.v0+json": {
       "columns": [
        {
         "name": "index",
         "rawType": "int64",
         "type": "integer"
        },
        {
         "name": "review",
         "rawType": "object",
         "type": "string"
        },
        {
         "name": "sentiment",
         "rawType": "object",
         "type": "string"
        },
        {
         "name": "review_clean",
         "rawType": "object",
         "type": "string"
        }
       ],
       "ref": "866ed4b7-2470-471d-9359-a60866ebceec",
       "rows": [
        [
         "0",
         "Started watching this but didn't believe in any of the characters. In particular the relationship between the bakery assistant and the waitress just didn't work for me at all. The scenes between the bakery owner and the assistant were nice but the rest was just very slow. It was a very superficial movie and it gave me the feeling that I was watching play rather than a film. The characters were very 'stagey' and the storyline was a lot like a stage farce. By the time the pyromaniac waylaid the assistant I was bored and didn't care what happened next and so I switched off. Glad I didn't pay to see it. Didn't laugh or even smile once. There seems to be a strange tendency for Americans to classify their films as 'comedy' when they are funny peculiar rather than funny ha ha. I have finally learned to avoid what Americans term dark comedies which usually turn out to be gruesome weird and unfunny. Now it looks like I will have to be a bit more discerning when they call a film romantic comedy as well. Maybe comedy means something different when applied to a film rather than a series in America. I don't understand why America can produce amazingly funny comedies like Two and a half men, Will and Grace, King of Queens but can't seem to produce really funny films without resorting to toilet humour. This film wasn't gross or anything. But it wasn't anything at all just one big yawn...",
         "negative",
         "start watch believe character particular relationship bakery assistant waitress work scene bakery owner assistant nice rest slow superficial movie give feel watch play rather film character storyline lot like stage farce time pyromaniac waylaid assistant bore care happen next switch glad pay see laugh even smile seem strange tendency american classify film funny peculiar rather funny ha ha finally learn avoid american term dark comedy usually turn gruesome weird unfunny look like bit discern call film romantic comedy well maybe comedy mean something different apply film rather series america understand america produce amazingly funny comedy like two half men grace king queen seem produce really funny film without resort toilet humour film gross anything anything one big yawn"
        ],
        [
         "1",
         "This totally UNfunny movie is so over the top and pathetic and unrealistic that throughout the whole 90 minutes of utter torture I probably looked at my watch about 70000 times! Lucy Bell is so much higher than this crap and for her to sink this low is quite depressing. I have to admit that the whole audience I was in was laughing hysterically but the majority were Greek or Italian so I guess that this humour will probably make them laugh but not me. All this movie does is make you sick watching all these slackers make excuses for their stupid actions for 90 minutes. God, and I can never get that 90 minutes back!",
         "negative",
         "totally unfunny movie top pathetic unrealistic throughout whole minute utter torture probably look watch time lucy bell much high crap sink low quite depress admit whole audience laugh hysterically majority greek italian guess humour probably make laugh movie make sick watch slacker make excuse stupid action minute god never get minute back"
        ],
        [
         "2",
         "There is absolutely nothing to redeem this movie. They took a sleazy story, miscast it, miswrote it, misfilmed it. It has bad dialogue badly performed in a meandering and trashy story.<br /><br />As badly as it fails as art, it fails even worse as commerce. Who could have been the target market for this. What age group? What interest group?<br /><br />Someone should make a movie about how and why they made this movie. That I would pay to see.<br /><br />I've seen thousands of bad movies, and this ranks with \"Sailor Who Fell from Grace\" and \"Manos\" ... my choices as the three most unredeemably bad movies I've ever seen. Everybody associated with it should be forced to make conversation with VanDamme for all eternity.<br /><br />I challenge you. Watch this movie and perform an academic exercise - how could you take this and make it worse? I can't think of one way.",
         "negative",
         "absolutely nothing redeem movie take sleazy story miscast miswrote misfilmed bad dialogue badly perform meander trashy story badly fails art fails even bad commerce could target market age group interest group someone make movie make movie would pay see see thousand bad movie rank sailor fell grace manos choice three unredeemably bad movie ever see everybody associate force make conversation vandamme eternity challenge watch movie perform academic exercise could take make bad think one way"
        ],
        [
         "3",
         "*****Warning: May contain SPOILERS********* My HUGE problem with this movie is how totally self-centered and self consumed the adulteress wife is!! After having a one night stand with a slimy psycho she is being stalked by him. He calls her constantly and threatens her and even sends a video of their night together. He is OBVIOUSLY crazy and very dangerous. The problem is she only thinks he is dangerous to HER (and exposing her secret). Not for one second did she ever have one thought of concern for her husband! Did she even for a moment think of him possibly being in danger from this psychotic?? As soon as she realized how mental he was she should have warned her husband no matter what the consequences. Maybe there wouldn't have been a movie then but there really wasn't one anyway so what's the difference.",
         "negative",
         "warn may contain spoiler huge problem movie totally self center self consume adulteress wife one night stand slimy psycho stalk call constantly threatens even sends video night together obviously crazy dangerous problem think dangerous expose secret one second ever one thought concern husband even moment think possibly danger psychotic soon realize mental warn husband matter consequence maybe movie really one anyway difference"
        ],
        [
         "4",
         "It's not surprising that the majority of higher-rated votes were submitted by females aged 45+. This is the timeframe in women's lives when they become the caretakers of aged and ill parents. I lost my mother, from complications of cancer, in June, and went through most of the same emotions portrayed by Zellweger in this film. Yes, it made me cry, but the tears were real, the characters were real, and the plot development extremely accurate. Kudos to the entire cast and crew for a wonderful portrayal of life and death, and the promises of tomorrow.",
         "positive",
         "surprising majority high rat vote submit female age timeframe life become caretaker age ill parent lose mother complication cancer june go emotion portrayed zellweger film yes make cry tear real character real plot development extremely accurate kudos entire cast crew wonderful portrayal life death promise tomorrow"
        ]
       ],
       "shape": {
        "columns": 3,
        "rows": 5
       }
      },
      "text/html": [
       "<div>\n",
       "<style scoped>\n",
       "    .dataframe tbody tr th:only-of-type {\n",
       "        vertical-align: middle;\n",
       "    }\n",
       "\n",
       "    .dataframe tbody tr th {\n",
       "        vertical-align: top;\n",
       "    }\n",
       "\n",
       "    .dataframe thead th {\n",
       "        text-align: right;\n",
       "    }\n",
       "</style>\n",
       "<table border=\"1\" class=\"dataframe\">\n",
       "  <thead>\n",
       "    <tr style=\"text-align: right;\">\n",
       "      <th></th>\n",
       "      <th>review</th>\n",
       "      <th>sentiment</th>\n",
       "      <th>review_clean</th>\n",
       "    </tr>\n",
       "  </thead>\n",
       "  <tbody>\n",
       "    <tr>\n",
       "      <th>0</th>\n",
       "      <td>Started watching this but didn't believe in an...</td>\n",
       "      <td>negative</td>\n",
       "      <td>start watch believe character particular relat...</td>\n",
       "    </tr>\n",
       "    <tr>\n",
       "      <th>1</th>\n",
       "      <td>This totally UNfunny movie is so over the top ...</td>\n",
       "      <td>negative</td>\n",
       "      <td>totally unfunny movie top pathetic unrealistic...</td>\n",
       "    </tr>\n",
       "    <tr>\n",
       "      <th>2</th>\n",
       "      <td>There is absolutely nothing to redeem this mov...</td>\n",
       "      <td>negative</td>\n",
       "      <td>absolutely nothing redeem movie take sleazy st...</td>\n",
       "    </tr>\n",
       "    <tr>\n",
       "      <th>3</th>\n",
       "      <td>*****Warning: May contain SPOILERS********* My...</td>\n",
       "      <td>negative</td>\n",
       "      <td>warn may contain spoiler huge problem movie to...</td>\n",
       "    </tr>\n",
       "    <tr>\n",
       "      <th>4</th>\n",
       "      <td>It's not surprising that the majority of highe...</td>\n",
       "      <td>positive</td>\n",
       "      <td>surprising majority high rat vote submit femal...</td>\n",
       "    </tr>\n",
       "  </tbody>\n",
       "</table>\n",
       "</div>"
      ],
      "text/plain": [
       "                                              review sentiment  \\\n",
       "0  Started watching this but didn't believe in an...  negative   \n",
       "1  This totally UNfunny movie is so over the top ...  negative   \n",
       "2  There is absolutely nothing to redeem this mov...  negative   \n",
       "3  *****Warning: May contain SPOILERS********* My...  negative   \n",
       "4  It's not surprising that the majority of highe...  positive   \n",
       "\n",
       "                                        review_clean  \n",
       "0  start watch believe character particular relat...  \n",
       "1  totally unfunny movie top pathetic unrealistic...  \n",
       "2  absolutely nothing redeem movie take sleazy st...  \n",
       "3  warn may contain spoiler huge problem movie to...  \n",
       "4  surprising majority high rat vote submit femal...  "
      ]
     },
     "execution_count": 5,
     "metadata": {},
     "output_type": "execute_result"
    }
   ],
   "source": [
    "df.head()"
   ]
  },
  {
   "cell_type": "markdown",
   "id": "2dfbbd4a",
   "metadata": {},
   "source": [
    "## Task 1: Encode Sentiment and Perform Train-Test-Split\n",
    "\n",
    "Transform the sentiment column, which consists of text at the momemt, into an appropriate numerical representation for further processing. Next, split the data into a train and test set."
   ]
  },
  {
   "cell_type": "code",
   "execution_count": null,
   "id": "b795159f",
   "metadata": {},
   "outputs": [],
   "source": [
    "# Encode the target variable\n",
    "..."
   ]
  },
  {
   "cell_type": "code",
   "execution_count": null,
   "id": "ac6c812e",
   "metadata": {},
   "outputs": [],
   "source": [
    "# Train-test split\n",
    "from sklearn.model_selection import train_test_split\n",
    "\n",
    "column='review_clean'\n",
    "# column='review'\n",
    "\n",
    "X_train, X_test, y_train, y_test = train_test_split(df[column],\n",
    "                                                    df['sentiment'],\n",
    "                                                    test_size=0.25,\n",
    "                                                    random_state=111)"
   ]
  },
  {
   "cell_type": "markdown",
   "id": "30c4ca8b",
   "metadata": {},
   "source": [
    "## Task 2: Huggingface Pipelines\n",
    "\n",
    "Transformer models are usually very large. With millions to tens of billions of parameters, training and deploying these models is a complicated undertaking. Furthermore, new models are being released more and more frequently and each one has its own implementation.\n",
    "\n",
    "The French company Huggingface has set out to tackle that problem by developing a simple framwork to download and use fully pre-trained Transformer models for various usecases. Besides sentiment analysis those include image classification, speech recognition, text generation, translation and many more. A complete list can be found [here](https://huggingface.co/docs/transformers/main_classes/pipelines).\n",
    "\n",
    "We will be using the sentiment analysis pipeline with the DistilBERT model, a distilled (reduced 40 % in size while maintaining 97 % of its performance) version of the BERT Transformer model, released by Google in 2018. Note that the pipeline automates several steps and obscures the fact that Transformers generally need a lot of code infrastructure and have many tunable parameters. We will show some of those steps in detail in the next part, where we finetune a Transformer model on our training data."
   ]
  },
  {
   "cell_type": "markdown",
   "id": "0517fd70",
   "metadata": {},
   "source": [
    "### Task: Initialize a huggingface pipeline with a model of your choice, try it out, and apply it to our test dataset.\n",
    "\n",
    "Note: Huggingface requires tensorflow keras < 3.0.0, so depending on your Python version you might have to downgrade your tf-keras implementation."
   ]
  },
  {
   "cell_type": "code",
   "execution_count": null,
   "id": "69d492a1",
   "metadata": {},
   "outputs": [],
   "source": [
    "!pip install transformers\n",
    "# !pip install 'tf-keras<3.0.0'  # uncomment if you have problems with the version of tf-keras"
   ]
  },
  {
   "cell_type": "code",
   "execution_count": 11,
   "id": "eb430143",
   "metadata": {},
   "outputs": [],
   "source": [
    "from transformers import pipeline"
   ]
  },
  {
   "cell_type": "code",
   "execution_count": null,
   "id": "12c72f91",
   "metadata": {},
   "outputs": [],
   "source": [
    "..."
   ]
  },
  {
   "cell_type": "code",
   "execution_count": 13,
   "id": "6e982385",
   "metadata": {},
   "outputs": [
    {
     "data": {
      "text/plain": [
       "[{'label': 'POSITIVE', 'score': 0.9998767375946045}]"
      ]
     },
     "execution_count": 13,
     "metadata": {},
     "output_type": "execute_result"
    }
   ],
   "source": [
    "classifier('I love this book.')"
   ]
  },
  {
   "cell_type": "markdown",
   "id": "95e9e73e",
   "metadata": {},
   "source": [
    "As you can see the pipeline outputs a classfication (POSITIVE or NEGATIVE) and a score that reflects its confidence. In order to evaluate the performace we'll need to extract the score for each movie review and put them into a list. That's what the function below will do.\n",
    "\n",
    "Note that even though the model is already trained and we only generate predictions with it, the code might still take a couple minutes to run, since the huggingface pipelines are not very well optimized for GPU usage (as opposed to the regular huggingface models, which we will look at next). [Link](https://github.com/huggingface/transformers/issues/14125)"
   ]
  },
  {
   "cell_type": "code",
   "execution_count": null,
   "id": "12ba3b8a",
   "metadata": {},
   "outputs": [],
   "source": [
    "def pipeline_classify(data):\n",
    "    ''' Function to run the sentiment analysis pipeline on each row of a dataset\n",
    "    and extract the scores. '''\n",
    "\n",
    "    ..."
   ]
  },
  {
   "cell_type": "code",
   "execution_count": 30,
   "id": "1cf44287",
   "metadata": {},
   "outputs": [],
   "source": [
    "predictions = pipeline_classify(X_test)"
   ]
  },
  {
   "cell_type": "markdown",
   "id": "d4f3a2b7",
   "metadata": {},
   "source": [
    "### Let's now take a look how well the model has performed.\n",
    "\n",
    "Since we'll need to evaluate several models we define a function for assessing our predictions and plotting the ROC curve."
   ]
  },
  {
   "cell_type": "code",
   "execution_count": 31,
   "id": "41473967",
   "metadata": {},
   "outputs": [],
   "source": [
    "from sklearn.metrics import accuracy_score, confusion_matrix, roc_auc_score, roc_curve\n",
    "\n",
    "def assess_sentiment_classifier(ytest, yhat, cutoff=0.5, plot_roc=True):\n",
    "    ''' Function to assess a classification model in terms of the AUC\n",
    "    and classification accuracy. '''\n",
    "\n",
    "    # Calculate discrete class predictions\n",
    "    yhat_discrete = np.where(pd.DataFrame(yhat)>cutoff, 1, 0)\n",
    "    # Calculate classification accuracy and AUC\n",
    "    acc = accuracy_score(ytest, yhat_discrete)\n",
    "    auc = roc_auc_score(ytest, yhat)\n",
    "    # Confusion matrix \n",
    "    cmat = confusion_matrix(ytest, yhat_discrete)\n",
    "    # ROC analysis\n",
    "    if plot_roc==True:\n",
    "        fpr, tpr, _ = roc_curve(ytest, yhat)\n",
    "        plt.plot(fpr,tpr, label=\"AUC={:.4}\".format(auc));\n",
    "        plt.plot([0, 1], [0, 1], \"r--\")\n",
    "        plt.ylabel('True positive rate')    \n",
    "        plt.xlabel('False positive rate')    \n",
    "        plt.legend(loc='lower right')\n",
    "        plt.show();\n",
    "    \n",
    "    print(\"NN test set performance:\\tAUC={:.4f}\\tAccuracy={:.4f}\".format(auc, acc))\n",
    "    print('Confusion matrix:')\n",
    "    print(cmat)"
   ]
  },
  {
   "cell_type": "code",
   "execution_count": null,
   "id": "e7c3e71a",
   "metadata": {},
   "outputs": [],
   "source": [
    "assess_sentiment_classifier(y_test, predictions)"
   ]
  },
  {
   "cell_type": "markdown",
   "id": "239f473e",
   "metadata": {},
   "source": [
    "A solid performance for a model that hasn't previously seen our movie reviews at all. Let's see how much we can improve on this result by finetuning a model on the training data."
   ]
  },
  {
   "cell_type": "markdown",
   "id": "da1b856b",
   "metadata": {},
   "source": [
    "## Task 3: Finetuning a pretrained huggingface model\n",
    "\n",
    "What we will do now is load a sequence classification model that has been pretrained on a large amount of english text and finetune it by further training it on our training data.\n",
    "\n",
    "For the sake of speed and efficiency we will once again be using DistilBERT. For a list of models available through huggingface transformers visit their [docs](https://huggingface.co/docs/transformers/v4.18.0/en/model_doc/auto).\n",
    "\n",
    "In the first step we need to tokenize the inputs. For that we need to utilize the right tokenizer for the model we'll be using. Huggingface makes this step easy with the AutoTokenizer class. All we need to do is specify the pretrained model vocabulary and the according tokenizer is selected automatically. We will be downloading the vocabulary of 30,522 words that belongs to the DistilBert Base Uncased model."
   ]
  },
  {
   "cell_type": "code",
   "execution_count": null,
   "id": "78cbe3b9",
   "metadata": {},
   "outputs": [],
   "source": [
    "!pip install 'accelerate>=0.26.0'"
   ]
  },
  {
   "cell_type": "code",
   "execution_count": null,
   "id": "1d99f86c",
   "metadata": {},
   "outputs": [],
   "source": [
    "# Load DistilBert tokenizer \n",
    "from transformers import AutoTokenizer\n",
    "tokenizer = AutoTokenizer.from_pretrained('distilbert-base-uncased')"
   ]
  },
  {
   "cell_type": "code",
   "execution_count": 34,
   "id": "7b801924",
   "metadata": {},
   "outputs": [
    {
     "data": {
      "text/plain": [
       "{'input_ids': [101, 1045, 2342, 1037, 2047, 14246, 2226, 999, 102], 'attention_mask': [1, 1, 1, 1, 1, 1, 1, 1, 1]}"
      ]
     },
     "execution_count": 34,
     "metadata": {},
     "output_type": "execute_result"
    }
   ],
   "source": [
    "tokenizer('I need a new GPU!')"
   ]
  },
  {
   "cell_type": "code",
   "execution_count": 51,
   "id": "e348df56",
   "metadata": {},
   "outputs": [],
   "source": [
    "# tokenize training reviews\n",
    "X_tr_int_pad = tokenizer(X_train.tolist(), truncation=True, padding='max_length')"
   ]
  },
  {
   "cell_type": "markdown",
   "id": "8f2f5366",
   "metadata": {},
   "source": [
    "Since the huggingface trainer only takes torch datasets as input, we need to transform our training dataset into a torch dataset and specify the labels."
   ]
  },
  {
   "cell_type": "code",
   "execution_count": 57,
   "id": "333c0391",
   "metadata": {},
   "outputs": [],
   "source": [
    "# create a torch dataset for training\n",
    "import torch\n",
    "\n",
    "class IMDB_Dataset(torch.utils.data.Dataset):\n",
    "    def __init__(self, reviews, sentiments):\n",
    "        self.reviews = reviews\n",
    "        self.sentiments = sentiments\n",
    "    \n",
    "    def __len__(self):\n",
    "        return len(self.sentiments)\n",
    "\n",
    "    def __getitem__(self, idx):\n",
    "        item = {key: torch.tensor(val[idx]) for key, val in self.reviews.items()}\n",
    "        item['labels'] = torch.tensor(self.sentiments[idx])\n",
    "        return item\n",
    "\n",
    "train_dataset = IMDB_Dataset(X_tr_int_pad, y_train.tolist())"
   ]
  },
  {
   "cell_type": "markdown",
   "id": "8fa1fa91",
   "metadata": {},
   "source": [
    "Next we load the DistilBert Base Uncased model. We need to specify how many unique labels we have, i.e. how many classes the model is supposed to classify into. Furthermore we need to specifically tell the model to utlize the GPU if one is available."
   ]
  },
  {
   "cell_type": "code",
   "execution_count": null,
   "id": "39e09fa2",
   "metadata": {},
   "outputs": [],
   "source": [
    "# load DistilBert model along with the number of expected labels\n",
    "..."
   ]
  },
  {
   "cell_type": "code",
   "execution_count": null,
   "id": "b4e19a4f",
   "metadata": {},
   "outputs": [],
   "source": [
    "# set model to use gpu if possible\n",
    "if torch.backends.cuda.is_built() and torch.cuda.is_available():\n",
    "    device = torch.device('cuda') # for NVIDIA GPUs\n",
    "elif torch.backends.mps.is_built():\n",
    "    device = torch.device('mps') # for Apple Silicon Macs\n",
    "else:\n",
    "    device = torch.device('cpu')\n",
    "\n",
    "model.to(device)"
   ]
  },
  {
   "cell_type": "markdown",
   "id": "16b81b2c",
   "metadata": {},
   "source": [
    "Now we import the Trainer and set the hyperparameters for the training process:\n",
    "\n",
    "- num_train_epochs: Number of passes through the entire training dataset (epochs).\n",
    "- per_device_train_batch_size: Number of training samples that will be propagated through the network by each GPU core / CPU in each step (the smaller the faster the network trains but the fuzzier the results; the larger the more memory you'll need).\n",
    "- learning_rate: Parameter that controls how much the model is changed each time the weights are updated, i.e. how large steps the trainer takes towards minimzing loss (too low and the training might get stuck in a local minimum, to large and it might be too unstable and never reach any minimum).\n",
    "- warmup_steps: Number of steps used for a linear warmup from 0 to the set learning rate.\n",
    "- weight_decay: Regularization parameter – penalty for too large weights (too high and the model doesn't fit well, too low and the model will be prone to overfit).\n",
    "\n",
    "The optimal parameter configuration will vary based on the type and size of your training dataset. Tuning them to get the best training result is a task of its own."
   ]
  },
  {
   "cell_type": "code",
   "execution_count": null,
   "id": "4e828283",
   "metadata": {},
   "outputs": [],
   "source": [
    "# load trainer and set arguments for training\n",
    "..."
   ]
  },
  {
   "cell_type": "markdown",
   "id": "2edc67ec",
   "metadata": {},
   "source": [
    "It's time to train. This may take a couple of minutes. You can reduce the number of epochs or the batch size to speed up the process."
   ]
  },
  {
   "cell_type": "code",
   "execution_count": null,
   "id": "8129e2aa",
   "metadata": {},
   "outputs": [],
   "source": [
    "# fine-tune the model on the train data\n",
    "..."
   ]
  },
  {
   "cell_type": "markdown",
   "id": "de703725",
   "metadata": {},
   "source": [
    "Now that the model is trained we can compute the predictions on the test dataset. For that we'll need a function to extract the output from the model."
   ]
  },
  {
   "cell_type": "code",
   "execution_count": null,
   "id": "785638c9",
   "metadata": {},
   "outputs": [],
   "source": [
    "from tensorflow.nn import softmax\n",
    "\n",
    "def DistilBert_classify(data):\n",
    "    ''' Function to run a finetuned huggingface model on each row of a dataset\n",
    "    and extract the scores. '''\n",
    "\n",
    "    ..."
   ]
  },
  {
   "cell_type": "code",
   "execution_count": 112,
   "id": "29bcd328",
   "metadata": {},
   "outputs": [],
   "source": [
    "predictions = DistilBert_classify(X_test)"
   ]
  },
  {
   "cell_type": "code",
   "execution_count": null,
   "id": "4add1666",
   "metadata": {},
   "outputs": [],
   "source": [
    "# assess sentiment classification model\n",
    "..."
   ]
  },
  {
   "cell_type": "markdown",
   "id": "e50425a4",
   "metadata": {},
   "source": [
    "That's a much better result than we were able to achieve with the pipeline or any other deep neural network before."
   ]
  },
  {
   "cell_type": "markdown",
   "id": "052cd189",
   "metadata": {},
   "source": [
    "## A note on transfer learning\n",
    "\n",
    "Transfer learning is the technique of training a model to do one task and then use it to do another. In our case we used the pipeline model, that was pretrained on natural text and used it to predict sentiments on highly preprocessed movie reviews. Let's see how the pipeline performs on the raw movie review data."
   ]
  },
  {
   "cell_type": "code",
   "execution_count": 114,
   "id": "27b8ec8c",
   "metadata": {},
   "outputs": [],
   "source": [
    "# perform train-test split with raw data\n",
    "column='review'\n",
    "\n",
    "X_train, X_test, y_train, y_test = train_test_split(df[column],\n",
    "                                                    df['sentiment'],\n",
    "                                                    test_size=0.25,\n",
    "                                                    random_state=111)"
   ]
  },
  {
   "cell_type": "code",
   "execution_count": 115,
   "id": "e1f713f2",
   "metadata": {},
   "outputs": [],
   "source": [
    "# generate predictions\n",
    "predictions = pipeline_classify(X_test)"
   ]
  },
  {
   "cell_type": "code",
   "execution_count": 116,
   "id": "0d224025",
   "metadata": {},
   "outputs": [
    {
     "data": {
      "image/png": "[encoded data removed]",
      "text/plain": [
       "<Figure size 640x480 with 1 Axes>"
      ]
     },
     "metadata": {},
     "output_type": "display_data"
    },
    {
     "name": "stdout",
     "output_type": "stream",
     "text": [
      "NN test set performance:\tAUC=0.9560\tAccuracy=0.8928\n",
      "Confusion matrix:\n",
      "[[580  52]\n",
      " [ 82 536]]\n"
     ]
    }
   ],
   "source": [
    "# evaluate the results\n",
    "assess_sentiment_classifier(y_test, predictions)"
   ]
  },
  {
   "cell_type": "markdown",
   "id": "08a1228f",
   "metadata": {},
   "source": [
    "As opposed to our previous models, the performance of the pipeline is much better on the raw data. Since the model is trained on natural text and has a much higher level of complexity than our previous neural network architectures it is able to extract information well from coherent sentences. In this case removing stop words and punctuation therefore constituted a loss of information.\n",
    "\n",
    "If you like, you can also go ahead and finetune the DistilBert model on the raw data as an exercise and see how much of an improvement you're going to get there."
   ]
  }
 ],
 "metadata": {
  "kernelspec": {
   "display_name": ".delta-env",
   "language": "python",
   "name": "python3"
  },
  "language_info": {
   "codemirror_mode": {
    "name": "ipython",
    "version": 3
   },
   "file_extension": ".py",
   "mimetype": "text/x-python",
   "name": "python",
   "nbconvert_exporter": "python",
   "pygments_lexer": "ipython3",
   "version": "3.12.6"
  }
 },
 "nbformat": 4,
 "nbformat_minor": 5
}
